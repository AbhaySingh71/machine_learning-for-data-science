{
  "metadata": {
    "kernelspec": {
      "language": "python",
      "display_name": "Python 3",
      "name": "python3"
    },
    "language_info": {
      "name": "python",
      "version": "3.7.6",
      "mimetype": "text/x-python",
      "codemirror_mode": {
        "name": "ipython",
        "version": 3
      },
      "pygments_lexer": "ipython3",
      "nbconvert_exporter": "python",
      "file_extension": ".py"
    },
    "kaggle": {
      "accelerator": "none",
      "dataSources": [
        {
          "sourceId": 320111,
          "sourceType": "datasetVersion",
          "datasetId": 134715
        }
      ],
      "dockerImageVersionId": 29907,
      "isInternetEnabled": false,
      "language": "python",
      "sourceType": "notebook",
      "isGpuEnabled": false
    },
    "colab": {
      "provenance": [],
      "include_colab_link": true
    }
  },
  "nbformat_minor": 0,
  "nbformat": 4,
  "cells": [
    {
      "cell_type": "markdown",
      "metadata": {
        "id": "view-in-github",
        "colab_type": "text"
      },
      "source": [
        "<a href=\"https://colab.research.google.com/github/AbhaySingh71/machine_learning-for-ds-/blob/main/Naive%20Bayes/sentiment_analysis_using_naive_bayes.ipynb\" target=\"_parent\"><img src=\"https://colab.research.google.com/assets/colab-badge.svg\" alt=\"Open In Colab\"/></a>"
      ]
    },
    {
      "source": [
        "# IMPORTANT: RUN THIS CELL IN ORDER TO IMPORT YOUR KAGGLE DATA SOURCES,\n",
        "# THEN FEEL FREE TO DELETE THIS CELL.\n",
        "# NOTE: THIS NOTEBOOK ENVIRONMENT DIFFERS FROM KAGGLE'S PYTHON\n",
        "# ENVIRONMENT SO THERE MAY BE MISSING LIBRARIES USED BY YOUR\n",
        "# NOTEBOOK.T\n",
        "import kagglehub\n",
        "lakshmi25npathi_imdb_dataset_of_50k_movie_reviews_path = kagglehub.dataset_download('lakshmi25npathi/imdb-dataset-of-50k-movie-reviews')\n",
        "\n",
        "print('Data source import complete.')\n"
      ],
      "metadata": {
        "id": "TKm9DNPb_7RN"
      },
      "cell_type": "code",
      "outputs": [],
      "execution_count": null
    },
    {
      "cell_type": "code",
      "source": [
        "# This Python 3 environment comes with many helpful analytics libraries installed\n",
        "# It is defined by the kaggle/python docker image: https://github.com/kaggle/docker-python\n",
        "# For example, here's several helpful packages to load in\n",
        "\n",
        "import numpy as np # linear algebra\n",
        "import pandas as pd # data processing, CSV file I/O (e.g. pd.read_csv)\n",
        "\n",
        "# Input data files are available in the \"../input/\" directory.\n",
        "# For example, running this (by clicking run or pressing Shift+Enter) will list all files under the input directory\n",
        "\n",
        "import os\n",
        "for dirname, _, filenames in os.walk('/kaggle/input'):\n",
        "    for filename in filenames:\n",
        "        print(os.path.join(dirname, filename))\n",
        "\n",
        "# Any results you write to the current directory are saved as output."
      ],
      "metadata": {
        "_uuid": "8f2839f25d086af736a60e9eeb907d3b93b6e0e5",
        "_cell_guid": "b1076dfc-b9ad-4769-8c92-a6c4dae69d19",
        "execution": {
          "iopub.status.busy": "2025-02-01T10:07:07.788353Z",
          "iopub.execute_input": "2025-02-01T10:07:07.788671Z",
          "iopub.status.idle": "2025-02-01T10:07:07.799635Z",
          "shell.execute_reply.started": "2025-02-01T10:07:07.788614Z",
          "shell.execute_reply": "2025-02-01T10:07:07.79868Z"
        },
        "trusted": true,
        "id": "q2lMM_Da_7RP",
        "outputId": "d68277f3-cbeb-445c-de92-a2123b87f01f"
      },
      "outputs": [
        {
          "name": "stdout",
          "text": "/kaggle/input/imdb-dataset-of-50k-movie-reviews/IMDB Dataset.csv\n",
          "output_type": "stream"
        }
      ],
      "execution_count": null
    },
    {
      "cell_type": "code",
      "source": [
        "df=pd.read_csv('/kaggle/input/imdb-dataset-of-50k-movie-reviews/IMDB Dataset.csv')"
      ],
      "metadata": {
        "_uuid": "d629ff2d2480ee46fbb7e2d37f6b5fab8052498a",
        "_cell_guid": "79c7e3d0-c299-4dcb-8224-4455121ee9b0",
        "execution": {
          "iopub.status.busy": "2025-02-01T10:07:07.802346Z",
          "iopub.execute_input": "2025-02-01T10:07:07.802743Z",
          "iopub.status.idle": "2025-02-01T10:07:09.2786Z",
          "shell.execute_reply.started": "2025-02-01T10:07:07.802669Z",
          "shell.execute_reply": "2025-02-01T10:07:09.277389Z"
        },
        "trusted": true,
        "id": "6JfelndT_7RQ"
      },
      "outputs": [],
      "execution_count": null
    },
    {
      "cell_type": "code",
      "source": [
        "df.head()"
      ],
      "metadata": {
        "execution": {
          "iopub.status.busy": "2025-02-01T10:07:09.280991Z",
          "iopub.execute_input": "2025-02-01T10:07:09.281409Z",
          "iopub.status.idle": "2025-02-01T10:07:09.296793Z",
          "shell.execute_reply.started": "2025-02-01T10:07:09.28134Z",
          "shell.execute_reply": "2025-02-01T10:07:09.295679Z"
        },
        "trusted": true,
        "id": "DPCuZ7Lr_7RQ",
        "outputId": "af73aaed-e520-4f2a-f69d-de15b063b6a3"
      },
      "outputs": [
        {
          "execution_count": 3,
          "output_type": "execute_result",
          "data": {
            "text/plain": "                                              review sentiment\n0  One of the other reviewers has mentioned that ...  positive\n1  A wonderful little production. <br /><br />The...  positive\n2  I thought this was a wonderful way to spend ti...  positive\n3  Basically there's a family where a little boy ...  negative\n4  Petter Mattei's \"Love in the Time of Money\" is...  positive",
            "text/html": "<div>\n<style scoped>\n    .dataframe tbody tr th:only-of-type {\n        vertical-align: middle;\n    }\n\n    .dataframe tbody tr th {\n        vertical-align: top;\n    }\n\n    .dataframe thead th {\n        text-align: right;\n    }\n</style>\n<table border=\"1\" class=\"dataframe\">\n  <thead>\n    <tr style=\"text-align: right;\">\n      <th></th>\n      <th>review</th>\n      <th>sentiment</th>\n    </tr>\n  </thead>\n  <tbody>\n    <tr>\n      <th>0</th>\n      <td>One of the other reviewers has mentioned that ...</td>\n      <td>positive</td>\n    </tr>\n    <tr>\n      <th>1</th>\n      <td>A wonderful little production. &lt;br /&gt;&lt;br /&gt;The...</td>\n      <td>positive</td>\n    </tr>\n    <tr>\n      <th>2</th>\n      <td>I thought this was a wonderful way to spend ti...</td>\n      <td>positive</td>\n    </tr>\n    <tr>\n      <th>3</th>\n      <td>Basically there's a family where a little boy ...</td>\n      <td>negative</td>\n    </tr>\n    <tr>\n      <th>4</th>\n      <td>Petter Mattei's \"Love in the Time of Money\" is...</td>\n      <td>positive</td>\n    </tr>\n  </tbody>\n</table>\n</div>"
          },
          "metadata": {}
        }
      ],
      "execution_count": null
    },
    {
      "cell_type": "code",
      "source": [
        "# One review\n",
        "df['review'][0]"
      ],
      "metadata": {
        "execution": {
          "iopub.status.busy": "2025-02-01T10:07:09.298043Z",
          "iopub.execute_input": "2025-02-01T10:07:09.29831Z",
          "iopub.status.idle": "2025-02-01T10:07:09.31429Z",
          "shell.execute_reply.started": "2025-02-01T10:07:09.29827Z",
          "shell.execute_reply": "2025-02-01T10:07:09.313347Z"
        },
        "trusted": true,
        "id": "dSq1Eylm_7RQ",
        "outputId": "a30d435e-0546-4f71-a9c3-89cf5cf94acb"
      },
      "outputs": [
        {
          "execution_count": 4,
          "output_type": "execute_result",
          "data": {
            "text/plain": "\"One of the other reviewers has mentioned that after watching just 1 Oz episode you'll be hooked. They are right, as this is exactly what happened with me.<br /><br />The first thing that struck me about Oz was its brutality and unflinching scenes of violence, which set in right from the word GO. Trust me, this is not a show for the faint hearted or timid. This show pulls no punches with regards to drugs, sex or violence. Its is hardcore, in the classic use of the word.<br /><br />It is called OZ as that is the nickname given to the Oswald Maximum Security State Penitentary. It focuses mainly on Emerald City, an experimental section of the prison where all the cells have glass fronts and face inwards, so privacy is not high on the agenda. Em City is home to many..Aryans, Muslims, gangstas, Latinos, Christians, Italians, Irish and more....so scuffles, death stares, dodgy dealings and shady agreements are never far away.<br /><br />I would say the main appeal of the show is due to the fact that it goes where other shows wouldn't dare. Forget pretty pictures painted for mainstream audiences, forget charm, forget romance...OZ doesn't mess around. The first episode I ever saw struck me as so nasty it was surreal, I couldn't say I was ready for it, but as I watched more, I developed a taste for Oz, and got accustomed to the high levels of graphic violence. Not just violence, but injustice (crooked guards who'll be sold out for a nickel, inmates who'll kill on order and get away with it, well mannered, middle class inmates being turned into prison bitches due to their lack of street skills or prison experience) Watching Oz, you may become comfortable with what is uncomfortable viewing....thats if you can get in touch with your darker side.\""
          },
          "metadata": {}
        }
      ],
      "execution_count": null
    },
    {
      "cell_type": "markdown",
      "source": [
        "## Text Cleaning\n",
        "\n",
        "1. Sample 10000 rows\n",
        "2. Remove html tags\n",
        "3. Remove special characters\n",
        "4. Converting every thing to lower case\n",
        "5. Removing Stop words\n",
        "6. Stemming"
      ],
      "metadata": {
        "id": "hosCPcLN_7RQ"
      }
    },
    {
      "cell_type": "code",
      "source": [
        "df=df.sample(10000)"
      ],
      "metadata": {
        "execution": {
          "iopub.status.busy": "2025-02-01T10:07:09.315848Z",
          "iopub.execute_input": "2025-02-01T10:07:09.316257Z",
          "iopub.status.idle": "2025-02-01T10:07:09.327832Z",
          "shell.execute_reply.started": "2025-02-01T10:07:09.316207Z",
          "shell.execute_reply": "2025-02-01T10:07:09.326715Z"
        },
        "trusted": true,
        "id": "6aoikvdl_7RR"
      },
      "outputs": [],
      "execution_count": null
    },
    {
      "cell_type": "code",
      "source": [
        "df.shape"
      ],
      "metadata": {
        "execution": {
          "iopub.status.busy": "2025-02-01T10:07:09.329196Z",
          "iopub.execute_input": "2025-02-01T10:07:09.329481Z",
          "iopub.status.idle": "2025-02-01T10:07:09.337603Z",
          "shell.execute_reply.started": "2025-02-01T10:07:09.32944Z",
          "shell.execute_reply": "2025-02-01T10:07:09.336456Z"
        },
        "trusted": true,
        "id": "ivzyjMea_7RR",
        "outputId": "7be84e9f-2052-4a98-bf82-1a040ba49a37"
      },
      "outputs": [
        {
          "execution_count": 6,
          "output_type": "execute_result",
          "data": {
            "text/plain": "(10000, 2)"
          },
          "metadata": {}
        }
      ],
      "execution_count": null
    },
    {
      "cell_type": "code",
      "source": [
        "df.info()"
      ],
      "metadata": {
        "execution": {
          "iopub.status.busy": "2025-02-01T10:07:09.338897Z",
          "iopub.execute_input": "2025-02-01T10:07:09.339281Z",
          "iopub.status.idle": "2025-02-01T10:07:09.355966Z",
          "shell.execute_reply.started": "2025-02-01T10:07:09.339224Z",
          "shell.execute_reply": "2025-02-01T10:07:09.355147Z"
        },
        "trusted": true,
        "id": "kuuZGlsj_7RR",
        "outputId": "5db25a83-9998-4fc8-fa20-4ea1d7b20afb"
      },
      "outputs": [
        {
          "name": "stdout",
          "text": "<class 'pandas.core.frame.DataFrame'>\nInt64Index: 10000 entries, 46202 to 29377\nData columns (total 2 columns):\n #   Column     Non-Null Count  Dtype \n---  ------     --------------  ----- \n 0   review     10000 non-null  object\n 1   sentiment  10000 non-null  object\ndtypes: object(2)\nmemory usage: 234.4+ KB\n",
          "output_type": "stream"
        }
      ],
      "execution_count": null
    },
    {
      "cell_type": "code",
      "source": [
        "df['sentiment'].replace({'positive':1,'negative':0},inplace=True)"
      ],
      "metadata": {
        "execution": {
          "iopub.status.busy": "2025-02-01T10:07:09.357364Z",
          "iopub.execute_input": "2025-02-01T10:07:09.357717Z",
          "iopub.status.idle": "2025-02-01T10:07:09.375756Z",
          "shell.execute_reply.started": "2025-02-01T10:07:09.357643Z",
          "shell.execute_reply": "2025-02-01T10:07:09.374719Z"
        },
        "trusted": true,
        "id": "wZwlyhAm_7RS"
      },
      "outputs": [],
      "execution_count": null
    },
    {
      "cell_type": "code",
      "source": [
        "df.head()"
      ],
      "metadata": {
        "execution": {
          "iopub.status.busy": "2025-02-01T10:07:09.377574Z",
          "iopub.execute_input": "2025-02-01T10:07:09.378231Z",
          "iopub.status.idle": "2025-02-01T10:07:09.399345Z",
          "shell.execute_reply.started": "2025-02-01T10:07:09.378157Z",
          "shell.execute_reply": "2025-02-01T10:07:09.398428Z"
        },
        "trusted": true,
        "id": "370-c_4z_7RS",
        "outputId": "43dc6876-ffc2-467c-b6c1-8fe5bf9a451c"
      },
      "outputs": [
        {
          "execution_count": 9,
          "output_type": "execute_result",
          "data": {
            "text/plain": "                                                  review  sentiment\n46202  Redundant, everlasting shots, useless shots, u...          0\n41607  Dripping with symbolism and filled with marvel...          1\n299    I saw Brother's Shadow at the Tribeca Film Fes...          1\n37224  I had an uncle who committed suicide after ser...          1\n5276   This movie is just not worth your time. Its re...          0",
            "text/html": "<div>\n<style scoped>\n    .dataframe tbody tr th:only-of-type {\n        vertical-align: middle;\n    }\n\n    .dataframe tbody tr th {\n        vertical-align: top;\n    }\n\n    .dataframe thead th {\n        text-align: right;\n    }\n</style>\n<table border=\"1\" class=\"dataframe\">\n  <thead>\n    <tr style=\"text-align: right;\">\n      <th></th>\n      <th>review</th>\n      <th>sentiment</th>\n    </tr>\n  </thead>\n  <tbody>\n    <tr>\n      <th>46202</th>\n      <td>Redundant, everlasting shots, useless shots, u...</td>\n      <td>0</td>\n    </tr>\n    <tr>\n      <th>41607</th>\n      <td>Dripping with symbolism and filled with marvel...</td>\n      <td>1</td>\n    </tr>\n    <tr>\n      <th>299</th>\n      <td>I saw Brother's Shadow at the Tribeca Film Fes...</td>\n      <td>1</td>\n    </tr>\n    <tr>\n      <th>37224</th>\n      <td>I had an uncle who committed suicide after ser...</td>\n      <td>1</td>\n    </tr>\n    <tr>\n      <th>5276</th>\n      <td>This movie is just not worth your time. Its re...</td>\n      <td>0</td>\n    </tr>\n  </tbody>\n</table>\n</div>"
          },
          "metadata": {}
        }
      ],
      "execution_count": null
    },
    {
      "cell_type": "code",
      "source": [
        "import re\n",
        "clean = re.compile('<.*?>')\n",
        "re.sub(clean, '', df.iloc[2].review)"
      ],
      "metadata": {
        "execution": {
          "iopub.status.busy": "2025-02-01T10:07:09.400881Z",
          "iopub.execute_input": "2025-02-01T10:07:09.40127Z",
          "iopub.status.idle": "2025-02-01T10:07:09.414196Z",
          "shell.execute_reply.started": "2025-02-01T10:07:09.40122Z",
          "shell.execute_reply": "2025-02-01T10:07:09.413168Z"
        },
        "trusted": true,
        "id": "qjBViWC3_7RS",
        "outputId": "45859eb4-62a4-42b9-8044-01baf64368aa"
      },
      "outputs": [
        {
          "execution_count": 10,
          "output_type": "execute_result",
          "data": {
            "text/plain": "\"I saw Brother's Shadow at the Tribeca Film Festival and loved it! Judd Hirsch and Scott Cohen are great as father and son. The film follows Scott Cohen from parole in Alaska back to his family in Brooklyn. He shows up there because his brother has died, and he embarks on a journey to slowly repair his estranged relationships with his brother's wife and child and his father who has never forgiven him for being the black sheep of the family. The story takes us deep into the hearts and minds of this family and allows you to more deeply understand the complexity of their lives. Also, the imagery of the woodworking business and the Brooklyn backdrop sets the tone for this rich and revealing family portrait.\""
          },
          "metadata": {}
        }
      ],
      "execution_count": null
    },
    {
      "cell_type": "code",
      "source": [
        "# Function to clean html tags\n",
        "def clean_html(text):\n",
        "    clean = re.compile('<.*?>')\n",
        "    return re.sub(clean, '', text)"
      ],
      "metadata": {
        "execution": {
          "iopub.status.busy": "2025-02-01T10:07:09.415821Z",
          "iopub.execute_input": "2025-02-01T10:07:09.416245Z",
          "iopub.status.idle": "2025-02-01T10:07:09.426468Z",
          "shell.execute_reply.started": "2025-02-01T10:07:09.41618Z",
          "shell.execute_reply": "2025-02-01T10:07:09.425605Z"
        },
        "trusted": true,
        "id": "b9oqkCeV_7RS"
      },
      "outputs": [],
      "execution_count": null
    },
    {
      "cell_type": "code",
      "source": [
        "df['review']=df['review'].apply(clean_html)"
      ],
      "metadata": {
        "execution": {
          "iopub.status.busy": "2025-02-01T10:07:09.428392Z",
          "iopub.execute_input": "2025-02-01T10:07:09.428675Z",
          "iopub.status.idle": "2025-02-01T10:07:09.500842Z",
          "shell.execute_reply.started": "2025-02-01T10:07:09.428631Z",
          "shell.execute_reply": "2025-02-01T10:07:09.499577Z"
        },
        "trusted": true,
        "id": "E0ymenDC_7RS"
      },
      "outputs": [],
      "execution_count": null
    },
    {
      "cell_type": "code",
      "source": [
        "# converting everything to lower\n",
        "\n",
        "def convert_lower(text):\n",
        "    return text.lower()"
      ],
      "metadata": {
        "execution": {
          "iopub.status.busy": "2025-02-01T10:07:09.502262Z",
          "iopub.execute_input": "2025-02-01T10:07:09.502679Z",
          "iopub.status.idle": "2025-02-01T10:07:09.506902Z",
          "shell.execute_reply.started": "2025-02-01T10:07:09.502613Z",
          "shell.execute_reply": "2025-02-01T10:07:09.505827Z"
        },
        "trusted": true,
        "id": "istHiBmm_7RS"
      },
      "outputs": [],
      "execution_count": null
    },
    {
      "cell_type": "code",
      "source": [
        "df['review']=df['review'].apply(convert_lower)"
      ],
      "metadata": {
        "execution": {
          "iopub.status.busy": "2025-02-01T10:07:09.512481Z",
          "iopub.execute_input": "2025-02-01T10:07:09.512861Z",
          "iopub.status.idle": "2025-02-01T10:07:09.562072Z",
          "shell.execute_reply.started": "2025-02-01T10:07:09.512809Z",
          "shell.execute_reply": "2025-02-01T10:07:09.561166Z"
        },
        "trusted": true,
        "id": "JDKV5Dsk_7RS"
      },
      "outputs": [],
      "execution_count": null
    },
    {
      "cell_type": "code",
      "source": [
        "# function to remove special characters\n",
        "\n",
        "def remove_special(text):\n",
        "    x=''\n",
        "\n",
        "    for i in text:\n",
        "        if i.isalnum():\n",
        "            x=x+i\n",
        "        else:\n",
        "            x=x + ' '\n",
        "    return x"
      ],
      "metadata": {
        "execution": {
          "iopub.status.busy": "2025-02-01T10:07:09.563937Z",
          "iopub.execute_input": "2025-02-01T10:07:09.564217Z",
          "iopub.status.idle": "2025-02-01T10:07:09.569079Z",
          "shell.execute_reply.started": "2025-02-01T10:07:09.564171Z",
          "shell.execute_reply": "2025-02-01T10:07:09.568189Z"
        },
        "trusted": true,
        "id": "J8ihXE7A_7RT"
      },
      "outputs": [],
      "execution_count": null
    },
    {
      "cell_type": "code",
      "source": [
        "remove_special(' th%e @ classic use of the word.it is called oz as that is the nickname given to the oswald maximum security state penitentary. it focuses mainly on emerald city, an experimental section of the prison where all the cells have glass fronts and face inwards, so privacy is not high on the agenda. em city is home to many..aryans, muslims, gangstas, latinos, christians, italians, irish and more....so scuffles, death stares, dodgy dealings and shady agreements are never far away.i would say the main appeal of the show is due to the fact that it goes where other shows wouldnt dare. forget pretty pictures painted for mainstream audiences, f')"
      ],
      "metadata": {
        "execution": {
          "iopub.status.busy": "2025-02-01T10:07:09.570815Z",
          "iopub.execute_input": "2025-02-01T10:07:09.571145Z",
          "iopub.status.idle": "2025-02-01T10:07:09.582468Z",
          "shell.execute_reply.started": "2025-02-01T10:07:09.571054Z",
          "shell.execute_reply": "2025-02-01T10:07:09.581606Z"
        },
        "trusted": true,
        "id": "VvghTC0__7RT",
        "outputId": "66258d11-5eb8-4e2b-996f-0ebd4811b89e"
      },
      "outputs": [
        {
          "execution_count": 16,
          "output_type": "execute_result",
          "data": {
            "text/plain": "' th e   classic use of the word it is called oz as that is the nickname given to the oswald maximum security state penitentary  it focuses mainly on emerald city  an experimental section of the prison where all the cells have glass fronts and face inwards  so privacy is not high on the agenda  em city is home to many  aryans  muslims  gangstas  latinos  christians  italians  irish and more    so scuffles  death stares  dodgy dealings and shady agreements are never far away i would say the main appeal of the show is due to the fact that it goes where other shows wouldnt dare  forget pretty pictures painted for mainstream audiences  f'"
          },
          "metadata": {}
        }
      ],
      "execution_count": null
    },
    {
      "cell_type": "code",
      "source": [
        "df['review']=df['review'].apply(remove_special)"
      ],
      "metadata": {
        "execution": {
          "iopub.status.busy": "2025-02-01T10:07:09.58382Z",
          "iopub.execute_input": "2025-02-01T10:07:09.584167Z",
          "iopub.status.idle": "2025-02-01T10:07:11.542845Z",
          "shell.execute_reply.started": "2025-02-01T10:07:09.584117Z",
          "shell.execute_reply": "2025-02-01T10:07:11.541828Z"
        },
        "trusted": true,
        "id": "vhLC_74G_7RT"
      },
      "outputs": [],
      "execution_count": null
    },
    {
      "cell_type": "code",
      "source": [
        "# Remove the stop words\n",
        "import nltk"
      ],
      "metadata": {
        "execution": {
          "iopub.status.busy": "2025-02-01T10:07:11.544091Z",
          "iopub.execute_input": "2025-02-01T10:07:11.544413Z",
          "iopub.status.idle": "2025-02-01T10:07:13.039608Z",
          "shell.execute_reply.started": "2025-02-01T10:07:11.544359Z",
          "shell.execute_reply": "2025-02-01T10:07:13.038647Z"
        },
        "trusted": true,
        "id": "sLvPo2Tr_7RT"
      },
      "outputs": [],
      "execution_count": null
    },
    {
      "cell_type": "code",
      "source": [
        "from nltk.corpus import stopwords"
      ],
      "metadata": {
        "execution": {
          "iopub.status.busy": "2025-02-01T10:07:13.041311Z",
          "iopub.execute_input": "2025-02-01T10:07:13.04181Z",
          "iopub.status.idle": "2025-02-01T10:07:13.050632Z",
          "shell.execute_reply.started": "2025-02-01T10:07:13.041732Z",
          "shell.execute_reply": "2025-02-01T10:07:13.049351Z"
        },
        "trusted": true,
        "id": "ifBYT1Ny_7RT"
      },
      "outputs": [],
      "execution_count": null
    },
    {
      "cell_type": "code",
      "source": [
        "stopwords.words('english')"
      ],
      "metadata": {
        "execution": {
          "iopub.status.busy": "2025-02-01T10:07:13.052276Z",
          "iopub.execute_input": "2025-02-01T10:07:13.052741Z",
          "iopub.status.idle": "2025-02-01T10:07:13.074225Z",
          "shell.execute_reply.started": "2025-02-01T10:07:13.052657Z",
          "shell.execute_reply": "2025-02-01T10:07:13.073059Z"
        },
        "trusted": true,
        "id": "ChuIvJ81_7RT",
        "outputId": "b4421150-870a-4354-f17d-63c90cd30f90"
      },
      "outputs": [
        {
          "execution_count": 20,
          "output_type": "execute_result",
          "data": {
            "text/plain": "['i',\n 'me',\n 'my',\n 'myself',\n 'we',\n 'our',\n 'ours',\n 'ourselves',\n 'you',\n \"you're\",\n \"you've\",\n \"you'll\",\n \"you'd\",\n 'your',\n 'yours',\n 'yourself',\n 'yourselves',\n 'he',\n 'him',\n 'his',\n 'himself',\n 'she',\n \"she's\",\n 'her',\n 'hers',\n 'herself',\n 'it',\n \"it's\",\n 'its',\n 'itself',\n 'they',\n 'them',\n 'their',\n 'theirs',\n 'themselves',\n 'what',\n 'which',\n 'who',\n 'whom',\n 'this',\n 'that',\n \"that'll\",\n 'these',\n 'those',\n 'am',\n 'is',\n 'are',\n 'was',\n 'were',\n 'be',\n 'been',\n 'being',\n 'have',\n 'has',\n 'had',\n 'having',\n 'do',\n 'does',\n 'did',\n 'doing',\n 'a',\n 'an',\n 'the',\n 'and',\n 'but',\n 'if',\n 'or',\n 'because',\n 'as',\n 'until',\n 'while',\n 'of',\n 'at',\n 'by',\n 'for',\n 'with',\n 'about',\n 'against',\n 'between',\n 'into',\n 'through',\n 'during',\n 'before',\n 'after',\n 'above',\n 'below',\n 'to',\n 'from',\n 'up',\n 'down',\n 'in',\n 'out',\n 'on',\n 'off',\n 'over',\n 'under',\n 'again',\n 'further',\n 'then',\n 'once',\n 'here',\n 'there',\n 'when',\n 'where',\n 'why',\n 'how',\n 'all',\n 'any',\n 'both',\n 'each',\n 'few',\n 'more',\n 'most',\n 'other',\n 'some',\n 'such',\n 'no',\n 'nor',\n 'not',\n 'only',\n 'own',\n 'same',\n 'so',\n 'than',\n 'too',\n 'very',\n 's',\n 't',\n 'can',\n 'will',\n 'just',\n 'don',\n \"don't\",\n 'should',\n \"should've\",\n 'now',\n 'd',\n 'll',\n 'm',\n 'o',\n 're',\n 've',\n 'y',\n 'ain',\n 'aren',\n \"aren't\",\n 'couldn',\n \"couldn't\",\n 'didn',\n \"didn't\",\n 'doesn',\n \"doesn't\",\n 'hadn',\n \"hadn't\",\n 'hasn',\n \"hasn't\",\n 'haven',\n \"haven't\",\n 'isn',\n \"isn't\",\n 'ma',\n 'mightn',\n \"mightn't\",\n 'mustn',\n \"mustn't\",\n 'needn',\n \"needn't\",\n 'shan',\n \"shan't\",\n 'shouldn',\n \"shouldn't\",\n 'wasn',\n \"wasn't\",\n 'weren',\n \"weren't\",\n 'won',\n \"won't\",\n 'wouldn',\n \"wouldn't\"]"
          },
          "metadata": {}
        }
      ],
      "execution_count": null
    },
    {
      "cell_type": "code",
      "source": [
        "df"
      ],
      "metadata": {
        "execution": {
          "iopub.status.busy": "2025-02-01T10:07:13.076105Z",
          "iopub.execute_input": "2025-02-01T10:07:13.076575Z",
          "iopub.status.idle": "2025-02-01T10:07:13.094212Z",
          "shell.execute_reply.started": "2025-02-01T10:07:13.076514Z",
          "shell.execute_reply": "2025-02-01T10:07:13.092853Z"
        },
        "trusted": true,
        "id": "U0uYMgou_7RT",
        "outputId": "2221bdff-982c-47d9-9199-14d855f4d1bd"
      },
      "outputs": [
        {
          "execution_count": 21,
          "output_type": "execute_result",
          "data": {
            "text/plain": "                                                  review  sentiment\n46202  redundant  everlasting shots  useless shots  u...          0\n41607  dripping with symbolism and filled with marvel...          1\n299    i saw brother s shadow at the tribeca film fes...          1\n37224  i had an uncle who committed suicide after ser...          1\n5276   this movie is just not worth your time  its re...          0\n...                                                  ...        ...\n11603  seeing les amants reguliers calls immediately ...          1\n12664  this film is a work of pure class from start t...          1\n14904  this movie is truly unbelievable  in every sen...          0\n27491  this movie forever left an impression on me  i...          0\n29377  never before have i seen such a tale of such t...          0\n\n[10000 rows x 2 columns]",
            "text/html": "<div>\n<style scoped>\n    .dataframe tbody tr th:only-of-type {\n        vertical-align: middle;\n    }\n\n    .dataframe tbody tr th {\n        vertical-align: top;\n    }\n\n    .dataframe thead th {\n        text-align: right;\n    }\n</style>\n<table border=\"1\" class=\"dataframe\">\n  <thead>\n    <tr style=\"text-align: right;\">\n      <th></th>\n      <th>review</th>\n      <th>sentiment</th>\n    </tr>\n  </thead>\n  <tbody>\n    <tr>\n      <th>46202</th>\n      <td>redundant  everlasting shots  useless shots  u...</td>\n      <td>0</td>\n    </tr>\n    <tr>\n      <th>41607</th>\n      <td>dripping with symbolism and filled with marvel...</td>\n      <td>1</td>\n    </tr>\n    <tr>\n      <th>299</th>\n      <td>i saw brother s shadow at the tribeca film fes...</td>\n      <td>1</td>\n    </tr>\n    <tr>\n      <th>37224</th>\n      <td>i had an uncle who committed suicide after ser...</td>\n      <td>1</td>\n    </tr>\n    <tr>\n      <th>5276</th>\n      <td>this movie is just not worth your time  its re...</td>\n      <td>0</td>\n    </tr>\n    <tr>\n      <th>...</th>\n      <td>...</td>\n      <td>...</td>\n    </tr>\n    <tr>\n      <th>11603</th>\n      <td>seeing les amants reguliers calls immediately ...</td>\n      <td>1</td>\n    </tr>\n    <tr>\n      <th>12664</th>\n      <td>this film is a work of pure class from start t...</td>\n      <td>1</td>\n    </tr>\n    <tr>\n      <th>14904</th>\n      <td>this movie is truly unbelievable  in every sen...</td>\n      <td>0</td>\n    </tr>\n    <tr>\n      <th>27491</th>\n      <td>this movie forever left an impression on me  i...</td>\n      <td>0</td>\n    </tr>\n    <tr>\n      <th>29377</th>\n      <td>never before have i seen such a tale of such t...</td>\n      <td>0</td>\n    </tr>\n  </tbody>\n</table>\n<p>10000 rows × 2 columns</p>\n</div>"
          },
          "metadata": {}
        }
      ],
      "execution_count": null
    },
    {
      "cell_type": "code",
      "source": [
        "\n",
        "def remove_stopwords(text):\n",
        "    x=[]\n",
        "    for i in text.split():\n",
        "\n",
        "        if i not in stopwords.words('english'):\n",
        "            x.append(i)\n",
        "    y=x[:]\n",
        "    x.clear()\n",
        "    return y"
      ],
      "metadata": {
        "execution": {
          "iopub.status.busy": "2025-02-01T10:07:13.09591Z",
          "iopub.execute_input": "2025-02-01T10:07:13.096389Z",
          "iopub.status.idle": "2025-02-01T10:07:13.105882Z",
          "shell.execute_reply.started": "2025-02-01T10:07:13.096308Z",
          "shell.execute_reply": "2025-02-01T10:07:13.104368Z"
        },
        "trusted": true,
        "id": "-b6670Qv_7RT"
      },
      "outputs": [],
      "execution_count": null
    },
    {
      "cell_type": "code",
      "source": [
        "df['review']=df['review'].apply(remove_stopwords)"
      ],
      "metadata": {
        "execution": {
          "iopub.status.busy": "2025-02-01T10:07:13.107966Z",
          "iopub.execute_input": "2025-02-01T10:07:13.108658Z"
        },
        "trusted": true,
        "id": "lycetRds_7RT"
      },
      "outputs": [],
      "execution_count": null
    },
    {
      "cell_type": "code",
      "source": [
        "df"
      ],
      "metadata": {
        "trusted": true,
        "id": "kkyCoQsT_7RU"
      },
      "outputs": [],
      "execution_count": null
    },
    {
      "cell_type": "code",
      "source": [
        "# Perform stemming\n",
        "\n",
        "from nltk.stem.porter import PorterStemmer\n",
        "ps=PorterStemmer()"
      ],
      "metadata": {
        "trusted": true,
        "id": "ImwuV4rJ_7RU"
      },
      "outputs": [],
      "execution_count": null
    },
    {
      "cell_type": "code",
      "source": [
        "y=[]\n",
        "def stem_words(text):\n",
        "    for i in text:\n",
        "        y.append(ps.stem(i))\n",
        "    z=y[:]\n",
        "    y.clear()\n",
        "    return z\n"
      ],
      "metadata": {
        "trusted": true,
        "id": "a1f28mEZ_7RU"
      },
      "outputs": [],
      "execution_count": null
    },
    {
      "cell_type": "code",
      "source": [
        "stem_words(['I','loved','loving','it'])"
      ],
      "metadata": {
        "trusted": true,
        "id": "pZj-ecor_7RU"
      },
      "outputs": [],
      "execution_count": null
    },
    {
      "cell_type": "code",
      "source": [
        "df['review']=df['review'].apply(stem_words)"
      ],
      "metadata": {
        "trusted": true,
        "id": "juABriDn_7RU"
      },
      "outputs": [],
      "execution_count": null
    },
    {
      "cell_type": "code",
      "source": [
        "df"
      ],
      "metadata": {
        "trusted": true,
        "id": "UzWrC5wB_7RU"
      },
      "outputs": [],
      "execution_count": null
    },
    {
      "cell_type": "code",
      "source": [
        "# Join back\n",
        "\n",
        "def join_back(list_input):\n",
        "    return \" \".join(list_input)\n"
      ],
      "metadata": {
        "trusted": true,
        "id": "CVXLdQU7_7RU"
      },
      "outputs": [],
      "execution_count": null
    },
    {
      "cell_type": "code",
      "source": [
        "df['review']=df['review'].apply(join_back)"
      ],
      "metadata": {
        "trusted": true,
        "id": "RIhDgXK9_7RU"
      },
      "outputs": [],
      "execution_count": null
    },
    {
      "cell_type": "code",
      "source": [
        "df['review']"
      ],
      "metadata": {
        "trusted": true,
        "id": "5RsLohnd_7RU"
      },
      "outputs": [],
      "execution_count": null
    },
    {
      "cell_type": "code",
      "source": [
        "X=df.iloc[:,0:1].values"
      ],
      "metadata": {
        "trusted": true,
        "id": "2EHE1CAE_7RU"
      },
      "outputs": [],
      "execution_count": null
    },
    {
      "cell_type": "code",
      "source": [
        "X.shape"
      ],
      "metadata": {
        "trusted": true,
        "id": "GqNrbbML_7RV"
      },
      "outputs": [],
      "execution_count": null
    },
    {
      "cell_type": "code",
      "source": [
        "from sklearn.feature_extraction.text import CountVectorizer\n",
        "cv=CountVectorizer(max_features=2500)"
      ],
      "metadata": {
        "trusted": true,
        "id": "wRPtKvfA_7RV"
      },
      "outputs": [],
      "execution_count": null
    },
    {
      "cell_type": "code",
      "source": [
        "X=cv.fit_transform(df['review']).toarray()"
      ],
      "metadata": {
        "trusted": true,
        "id": "Adggpjzm_7RV"
      },
      "outputs": [],
      "execution_count": null
    },
    {
      "cell_type": "code",
      "source": [
        "X.shape"
      ],
      "metadata": {
        "trusted": true,
        "id": "6-Y83X2o_7RV"
      },
      "outputs": [],
      "execution_count": null
    },
    {
      "cell_type": "code",
      "source": [
        "X[0].mean()"
      ],
      "metadata": {
        "trusted": true,
        "id": "DW9bP7cM_7RY"
      },
      "outputs": [],
      "execution_count": null
    },
    {
      "cell_type": "code",
      "source": [
        "y=df.iloc[:,-1].values"
      ],
      "metadata": {
        "trusted": true,
        "id": "mEhW_OtG_7RY"
      },
      "outputs": [],
      "execution_count": null
    },
    {
      "cell_type": "code",
      "source": [
        "y.shape"
      ],
      "metadata": {
        "trusted": true,
        "id": "tJMFqhEr_7RY"
      },
      "outputs": [],
      "execution_count": null
    },
    {
      "cell_type": "code",
      "source": [
        "# X,y\n",
        "# Training set\n",
        "# Test Set(Already know the result)"
      ],
      "metadata": {
        "trusted": true,
        "id": "yAxuGSCg_7RY"
      },
      "outputs": [],
      "execution_count": null
    },
    {
      "cell_type": "code",
      "source": [
        "from sklearn.model_selection import train_test_split\n",
        "\n",
        "X_train, X_test,y_train,y_test=train_test_split(X,y,test_size=0.2)"
      ],
      "metadata": {
        "trusted": true,
        "id": "fTbHJkUy_7RY"
      },
      "outputs": [],
      "execution_count": null
    },
    {
      "cell_type": "code",
      "source": [
        "X_train.shape"
      ],
      "metadata": {
        "trusted": true,
        "id": "8QQ63YEL_7RY"
      },
      "outputs": [],
      "execution_count": null
    },
    {
      "cell_type": "code",
      "source": [
        "X_test.shape"
      ],
      "metadata": {
        "trusted": true,
        "id": "txHXPAHi_7RY"
      },
      "outputs": [],
      "execution_count": null
    },
    {
      "cell_type": "code",
      "source": [
        "y_train.shape"
      ],
      "metadata": {
        "trusted": true,
        "id": "1Wh2YZ5l_7RY"
      },
      "outputs": [],
      "execution_count": null
    },
    {
      "cell_type": "code",
      "source": [
        "y_test.shape"
      ],
      "metadata": {
        "trusted": true,
        "id": "JXtlP_Z8_7RZ"
      },
      "outputs": [],
      "execution_count": null
    },
    {
      "cell_type": "code",
      "source": [
        "from sklearn.naive_bayes import GaussianNB,MultinomialNB,BernoulliNB"
      ],
      "metadata": {
        "trusted": true,
        "id": "vPLBFNr1_7RZ"
      },
      "outputs": [],
      "execution_count": null
    },
    {
      "cell_type": "code",
      "source": [
        "clf1=GaussianNB()\n",
        "clf2=MultinomialNB()\n",
        "clf3=BernoulliNB()"
      ],
      "metadata": {
        "trusted": true,
        "id": "37f37o56_7RZ"
      },
      "outputs": [],
      "execution_count": null
    },
    {
      "cell_type": "code",
      "source": [
        "clf1.fit(X_train,y_train)\n",
        "clf2.fit(X_train,y_train)\n",
        "clf3.fit(X_train,y_train)"
      ],
      "metadata": {
        "trusted": true,
        "id": "XyUpjkI7_7RZ"
      },
      "outputs": [],
      "execution_count": null
    },
    {
      "cell_type": "code",
      "source": [
        "y_pred1=clf1.predict(X_test)\n",
        "y_pred2=clf2.predict(X_test)\n",
        "y_pred3=clf3.predict(X_test)"
      ],
      "metadata": {
        "trusted": true,
        "id": "6s-l81Bx_7RZ"
      },
      "outputs": [],
      "execution_count": null
    },
    {
      "cell_type": "code",
      "source": [
        "y_test.shape"
      ],
      "metadata": {
        "trusted": true,
        "id": "2rg6OZxT_7RZ"
      },
      "outputs": [],
      "execution_count": null
    },
    {
      "cell_type": "code",
      "source": [
        "y_pred1.shape"
      ],
      "metadata": {
        "trusted": true,
        "id": "g8pfQkfy_7RZ"
      },
      "outputs": [],
      "execution_count": null
    },
    {
      "cell_type": "code",
      "source": [
        "from sklearn.metrics import accuracy_score"
      ],
      "metadata": {
        "trusted": true,
        "id": "O89WEFtj_7RZ"
      },
      "outputs": [],
      "execution_count": null
    },
    {
      "cell_type": "code",
      "source": [
        "print(\"Gaussian\",accuracy_score(y_test,y_pred1))\n",
        "print(\"Multinomial\",accuracy_score(y_test,y_pred2))\n",
        "print(\"Bernaulli\",accuracy_score(y_test,y_pred3))"
      ],
      "metadata": {
        "trusted": true,
        "id": "LnZT_9sh_7RZ"
      },
      "outputs": [],
      "execution_count": null
    },
    {
      "cell_type": "code",
      "source": [],
      "metadata": {
        "trusted": true,
        "id": "l-PncQUR_7Ra"
      },
      "outputs": [],
      "execution_count": null
    }
  ]
}